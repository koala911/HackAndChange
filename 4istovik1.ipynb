{
 "cells": [
  {
   "cell_type": "code",
   "execution_count": 2,
   "metadata": {},
   "outputs": [
    {
     "data": {
      "text/html": [
       "<div>\n",
       "<style scoped>\n",
       "    .dataframe tbody tr th:only-of-type {\n",
       "        vertical-align: middle;\n",
       "    }\n",
       "\n",
       "    .dataframe tbody tr th {\n",
       "        vertical-align: top;\n",
       "    }\n",
       "\n",
       "    .dataframe thead th {\n",
       "        text-align: right;\n",
       "    }\n",
       "</style>\n",
       "<table border=\"1\" class=\"dataframe\">\n",
       "  <thead>\n",
       "    <tr style=\"text-align: right;\">\n",
       "      <th></th>\n",
       "      <th>ADDRESS</th>\n",
       "      <th>CITY</th>\n",
       "      <th>REGION</th>\n",
       "      <th>Postamat_daily</th>\n",
       "      <th>cashbox_daily</th>\n",
       "      <th>Postamat_trend</th>\n",
       "      <th>cashbox_MAX</th>\n",
       "      <th>cashbox_trend</th>\n",
       "      <th>hh_500</th>\n",
       "      <th>value1</th>\n",
       "      <th>value2</th>\n",
       "      <th>POPULATION</th>\n",
       "      <th>NEAR_Malls</th>\n",
       "      <th>NEAR_Business_centers</th>\n",
       "      <th>NEAR_metro_rjd</th>\n",
       "      <th>NEAR_Stations</th>\n",
       "      <th>macro_salary_avg_yearly</th>\n",
       "    </tr>\n",
       "  </thead>\n",
       "  <tbody>\n",
       "    <tr>\n",
       "      <th>0</th>\n",
       "      <td>г.Калуга, Литейная ул., 25/15</td>\n",
       "      <td>КАЛУГА</td>\n",
       "      <td>Калужская область</td>\n",
       "      <td>NaN</td>\n",
       "      <td>3.3</td>\n",
       "      <td>NaN</td>\n",
       "      <td>13.0</td>\n",
       "      <td>1.0</td>\n",
       "      <td>7696.0</td>\n",
       "      <td>10099</td>\n",
       "      <td>3382</td>\n",
       "      <td>324698</td>\n",
       "      <td>0</td>\n",
       "      <td>0</td>\n",
       "      <td>NaN</td>\n",
       "      <td>остановка</td>\n",
       "      <td>423321</td>\n",
       "    </tr>\n",
       "    <tr>\n",
       "      <th>1</th>\n",
       "      <td>г.Калуга, Гагарина ул., 1</td>\n",
       "      <td>КАЛУГА</td>\n",
       "      <td>Калужская область</td>\n",
       "      <td>NaN</td>\n",
       "      <td>NaN</td>\n",
       "      <td>NaN</td>\n",
       "      <td>NaN</td>\n",
       "      <td>NaN</td>\n",
       "      <td>6369.0</td>\n",
       "      <td>10068</td>\n",
       "      <td>3236</td>\n",
       "      <td>324698</td>\n",
       "      <td>1</td>\n",
       "      <td>1</td>\n",
       "      <td>NaN</td>\n",
       "      <td>остановка</td>\n",
       "      <td>423321</td>\n",
       "    </tr>\n",
       "    <tr>\n",
       "      <th>2</th>\n",
       "      <td>г.Калуга, Кибальчича ул., 25</td>\n",
       "      <td>КАЛУГА</td>\n",
       "      <td>Калужская область</td>\n",
       "      <td>NaN</td>\n",
       "      <td>3.1</td>\n",
       "      <td>NaN</td>\n",
       "      <td>12.0</td>\n",
       "      <td>1.0</td>\n",
       "      <td>5553.0</td>\n",
       "      <td>10100</td>\n",
       "      <td>3436</td>\n",
       "      <td>324698</td>\n",
       "      <td>1</td>\n",
       "      <td>0</td>\n",
       "      <td>NaN</td>\n",
       "      <td>NaN</td>\n",
       "      <td>423321</td>\n",
       "    </tr>\n",
       "    <tr>\n",
       "      <th>3</th>\n",
       "      <td>г.Калуга, Пестеля ул., 60/49</td>\n",
       "      <td>КАЛУГА</td>\n",
       "      <td>Калужская область</td>\n",
       "      <td>3.0</td>\n",
       "      <td>2.2</td>\n",
       "      <td>0.0</td>\n",
       "      <td>12.0</td>\n",
       "      <td>1.0</td>\n",
       "      <td>7162.0</td>\n",
       "      <td>10099</td>\n",
       "      <td>3257</td>\n",
       "      <td>324698</td>\n",
       "      <td>0</td>\n",
       "      <td>0</td>\n",
       "      <td>NaN</td>\n",
       "      <td>NaN</td>\n",
       "      <td>423321</td>\n",
       "    </tr>\n",
       "    <tr>\n",
       "      <th>4</th>\n",
       "      <td>г.Калуга, Ленина ул., 81</td>\n",
       "      <td>КАЛУГА</td>\n",
       "      <td>Калужская область</td>\n",
       "      <td>1.0</td>\n",
       "      <td>2.0</td>\n",
       "      <td>0.0</td>\n",
       "      <td>9.0</td>\n",
       "      <td>1.0</td>\n",
       "      <td>6269.0</td>\n",
       "      <td>10096</td>\n",
       "      <td>3195</td>\n",
       "      <td>324698</td>\n",
       "      <td>1</td>\n",
       "      <td>0</td>\n",
       "      <td>NaN</td>\n",
       "      <td>остановка</td>\n",
       "      <td>423321</td>\n",
       "    </tr>\n",
       "  </tbody>\n",
       "</table>\n",
       "</div>"
      ],
      "text/plain": [
       "                         ADDRESS    CITY             REGION  Postamat_daily  \\\n",
       "0  г.Калуга, Литейная ул., 25/15  КАЛУГА  Калужская область             NaN   \n",
       "1      г.Калуга, Гагарина ул., 1  КАЛУГА  Калужская область             NaN   \n",
       "2   г.Калуга, Кибальчича ул., 25  КАЛУГА  Калужская область             NaN   \n",
       "3   г.Калуга, Пестеля ул., 60/49  КАЛУГА  Калужская область             3.0   \n",
       "4       г.Калуга, Ленина ул., 81  КАЛУГА  Калужская область             1.0   \n",
       "\n",
       "   cashbox_daily  Postamat_trend  cashbox_MAX  cashbox_trend  hh_500  value1  \\\n",
       "0            3.3             NaN         13.0            1.0  7696.0   10099   \n",
       "1            NaN             NaN          NaN            NaN  6369.0   10068   \n",
       "2            3.1             NaN         12.0            1.0  5553.0   10100   \n",
       "3            2.2             0.0         12.0            1.0  7162.0   10099   \n",
       "4            2.0             0.0          9.0            1.0  6269.0   10096   \n",
       "\n",
       "   value2  POPULATION  NEAR_Malls  NEAR_Business_centers  NEAR_metro_rjd  \\\n",
       "0    3382      324698           0                      0             NaN   \n",
       "1    3236      324698           1                      1             NaN   \n",
       "2    3436      324698           1                      0             NaN   \n",
       "3    3257      324698           0                      0             NaN   \n",
       "4    3195      324698           1                      0             NaN   \n",
       "\n",
       "  NEAR_Stations  macro_salary_avg_yearly  \n",
       "0     остановка                   423321  \n",
       "1     остановка                   423321  \n",
       "2           NaN                   423321  \n",
       "3           NaN                   423321  \n",
       "4     остановка                   423321  "
      ]
     },
     "execution_count": 2,
     "metadata": {},
     "output_type": "execute_result"
    }
   ],
   "source": [
    "import pandas as pd\n",
    "\n",
    "data = pd.read_excel('hackaton_data_5post.xlsx')\n",
    "data.head()"
   ]
  },
  {
   "cell_type": "code",
   "execution_count": 3,
   "metadata": {},
   "outputs": [],
   "source": [
    "def replace_binary_value(b):\n",
    "    if b and pd.notnull(b):\n",
    "        return 1\n",
    "    else:\n",
    "        return -1\n",
    "\n",
    "data.iloc[:, 12:16] = data.iloc[:, 12:16].agg(lambda row: row.agg(replace_binary_value, axis=0), axis=1)\n",
    "\n",
    "data_kal_obl = data[data['REGION'] == 'Калужская область']\n",
    "data_tul_obl = data[data['REGION'] == 'Тульская область']"
   ]
  },
  {
   "cell_type": "markdown",
   "metadata": {},
   "source": [
    "Построим графики попарных распределений признаков и целевых переменных:"
   ]
  },
  {
   "cell_type": "code",
   "execution_count": 4,
   "metadata": {},
   "outputs": [
    {
     "name": "stderr",
     "output_type": "stream",
     "text": [
      "/Users/kostya/anaconda3/lib/python3.7/site-packages/numpy/lib/histograms.py:754: RuntimeWarning: invalid value encountered in greater_equal\n",
      "  keep = (tmp_a >= first_edge)\n",
      "/Users/kostya/anaconda3/lib/python3.7/site-packages/numpy/lib/histograms.py:755: RuntimeWarning: invalid value encountered in less_equal\n",
      "  keep &= (tmp_a <= last_edge)\n"
     ]
    },
    {
     "data": {
      "text/plain": [
       "<seaborn.axisgrid.PairGrid at 0x1a159269b0>"
      ]
     },
     "execution_count": 4,
     "metadata": {},
     "output_type": "execute_result"
    }
   ],
   "source": [
    "import seaborn as sns\n",
    "\n",
    "sns.pairplot(data_kal_obl.iloc[:, 3:17])"
   ]
  },
  {
   "cell_type": "markdown",
   "metadata": {},
   "source": [
    "Видно, что города с большим населением (областные центры, т.е. Калуга и Тула) выбиваются из общего распределения, следовательно их надо рассматирвать отдельно"
   ]
  },
  {
   "cell_type": "code",
   "execution_count": 5,
   "metadata": {},
   "outputs": [],
   "source": [
    "data_kaluga = data_kal_obl[data_kal_obl['CITY'] == 'КАЛУГА']\n",
    "data_tula = data_tul_obl[data_tul_obl['CITY'] == 'ТУЛА']\n",
    "data_kal_obl = data_kal_obl[data_kal_obl['CITY'] != 'КАЛУГА']\n",
    "data_tul_obl = data_tul_obl[data_tul_obl['CITY'] != 'ТУЛА']"
   ]
  },
  {
   "cell_type": "markdown",
   "metadata": {},
   "source": [
    "Найдем сначала зависимость среднего количества посылок, выданных в кассе"
   ]
  },
  {
   "cell_type": "code",
   "execution_count": 6,
   "metadata": {},
   "outputs": [],
   "source": [
    "X = data_kaluga[data_kaluga['cashbox_daily'].notnull()].iloc[:, 6:18]"
   ]
  },
  {
   "cell_type": "code",
   "execution_count": 7,
   "metadata": {},
   "outputs": [
    {
     "name": "stdout",
     "output_type": "stream",
     "text": [
      "<class 'pandas.core.frame.DataFrame'>\n",
      "Int64Index: 57 entries, 0 to 239\n",
      "Data columns (total 11 columns):\n",
      "cashbox_MAX                57 non-null float64\n",
      "cashbox_trend              55 non-null float64\n",
      "hh_500                     57 non-null float64\n",
      "value1                     57 non-null int64\n",
      "value2                     57 non-null int64\n",
      "POPULATION                 57 non-null int64\n",
      "NEAR_Malls                 57 non-null int64\n",
      "NEAR_Business_centers      57 non-null int64\n",
      "NEAR_metro_rjd             57 non-null int64\n",
      "NEAR_Stations              57 non-null int64\n",
      "macro_salary_avg_yearly    57 non-null int64\n",
      "dtypes: float64(3), int64(8)\n",
      "memory usage: 5.3 KB\n"
     ]
    }
   ],
   "source": [
    "X.info()"
   ]
  },
  {
   "cell_type": "code",
   "execution_count": 8,
   "metadata": {},
   "outputs": [
    {
     "data": {
      "text/html": [
       "<div>\n",
       "<style scoped>\n",
       "    .dataframe tbody tr th:only-of-type {\n",
       "        vertical-align: middle;\n",
       "    }\n",
       "\n",
       "    .dataframe tbody tr th {\n",
       "        vertical-align: top;\n",
       "    }\n",
       "\n",
       "    .dataframe thead th {\n",
       "        text-align: right;\n",
       "    }\n",
       "</style>\n",
       "<table border=\"1\" class=\"dataframe\">\n",
       "  <thead>\n",
       "    <tr style=\"text-align: right;\">\n",
       "      <th></th>\n",
       "      <th>cashbox_MAX</th>\n",
       "      <th>cashbox_trend</th>\n",
       "      <th>hh_500</th>\n",
       "      <th>value1</th>\n",
       "      <th>value2</th>\n",
       "      <th>POPULATION</th>\n",
       "      <th>NEAR_Malls</th>\n",
       "      <th>NEAR_Business_centers</th>\n",
       "      <th>NEAR_metro_rjd</th>\n",
       "      <th>NEAR_Stations</th>\n",
       "      <th>macro_salary_avg_yearly</th>\n",
       "    </tr>\n",
       "  </thead>\n",
       "  <tbody>\n",
       "    <tr>\n",
       "      <th>count</th>\n",
       "      <td>57.000000</td>\n",
       "      <td>55.000000</td>\n",
       "      <td>57.000000</td>\n",
       "      <td>57.000000</td>\n",
       "      <td>57.000000</td>\n",
       "      <td>57.0</td>\n",
       "      <td>57.000000</td>\n",
       "      <td>57.000000</td>\n",
       "      <td>57.000000</td>\n",
       "      <td>57.000000</td>\n",
       "      <td>57.0</td>\n",
       "    </tr>\n",
       "    <tr>\n",
       "      <th>mean</th>\n",
       "      <td>7.701754</td>\n",
       "      <td>0.836364</td>\n",
       "      <td>3839.456140</td>\n",
       "      <td>10023.807018</td>\n",
       "      <td>2926.052632</td>\n",
       "      <td>324698.0</td>\n",
       "      <td>-0.754386</td>\n",
       "      <td>-0.964912</td>\n",
       "      <td>-0.964912</td>\n",
       "      <td>-0.052632</td>\n",
       "      <td>423321.0</td>\n",
       "    </tr>\n",
       "    <tr>\n",
       "      <th>std</th>\n",
       "      <td>3.545444</td>\n",
       "      <td>0.373355</td>\n",
       "      <td>2302.232566</td>\n",
       "      <td>58.251744</td>\n",
       "      <td>225.818544</td>\n",
       "      <td>0.0</td>\n",
       "      <td>0.662266</td>\n",
       "      <td>0.264906</td>\n",
       "      <td>0.264906</td>\n",
       "      <td>1.007491</td>\n",
       "      <td>0.0</td>\n",
       "    </tr>\n",
       "    <tr>\n",
       "      <th>min</th>\n",
       "      <td>2.000000</td>\n",
       "      <td>0.000000</td>\n",
       "      <td>237.000000</td>\n",
       "      <td>9927.000000</td>\n",
       "      <td>2543.000000</td>\n",
       "      <td>324698.0</td>\n",
       "      <td>-1.000000</td>\n",
       "      <td>-1.000000</td>\n",
       "      <td>-1.000000</td>\n",
       "      <td>-1.000000</td>\n",
       "      <td>423321.0</td>\n",
       "    </tr>\n",
       "    <tr>\n",
       "      <th>25%</th>\n",
       "      <td>5.000000</td>\n",
       "      <td>1.000000</td>\n",
       "      <td>2127.000000</td>\n",
       "      <td>9973.000000</td>\n",
       "      <td>2766.000000</td>\n",
       "      <td>324698.0</td>\n",
       "      <td>-1.000000</td>\n",
       "      <td>-1.000000</td>\n",
       "      <td>-1.000000</td>\n",
       "      <td>-1.000000</td>\n",
       "      <td>423321.0</td>\n",
       "    </tr>\n",
       "    <tr>\n",
       "      <th>50%</th>\n",
       "      <td>8.000000</td>\n",
       "      <td>1.000000</td>\n",
       "      <td>3105.000000</td>\n",
       "      <td>10019.000000</td>\n",
       "      <td>2870.000000</td>\n",
       "      <td>324698.0</td>\n",
       "      <td>-1.000000</td>\n",
       "      <td>-1.000000</td>\n",
       "      <td>-1.000000</td>\n",
       "      <td>-1.000000</td>\n",
       "      <td>423321.0</td>\n",
       "    </tr>\n",
       "    <tr>\n",
       "      <th>75%</th>\n",
       "      <td>10.000000</td>\n",
       "      <td>1.000000</td>\n",
       "      <td>5619.000000</td>\n",
       "      <td>10088.000000</td>\n",
       "      <td>3075.000000</td>\n",
       "      <td>324698.0</td>\n",
       "      <td>-1.000000</td>\n",
       "      <td>-1.000000</td>\n",
       "      <td>-1.000000</td>\n",
       "      <td>1.000000</td>\n",
       "      <td>423321.0</td>\n",
       "    </tr>\n",
       "    <tr>\n",
       "      <th>max</th>\n",
       "      <td>19.000000</td>\n",
       "      <td>1.000000</td>\n",
       "      <td>9463.000000</td>\n",
       "      <td>10100.000000</td>\n",
       "      <td>3436.000000</td>\n",
       "      <td>324698.0</td>\n",
       "      <td>1.000000</td>\n",
       "      <td>1.000000</td>\n",
       "      <td>1.000000</td>\n",
       "      <td>1.000000</td>\n",
       "      <td>423321.0</td>\n",
       "    </tr>\n",
       "  </tbody>\n",
       "</table>\n",
       "</div>"
      ],
      "text/plain": [
       "       cashbox_MAX  cashbox_trend       hh_500        value1       value2  \\\n",
       "count    57.000000      55.000000    57.000000     57.000000    57.000000   \n",
       "mean      7.701754       0.836364  3839.456140  10023.807018  2926.052632   \n",
       "std       3.545444       0.373355  2302.232566     58.251744   225.818544   \n",
       "min       2.000000       0.000000   237.000000   9927.000000  2543.000000   \n",
       "25%       5.000000       1.000000  2127.000000   9973.000000  2766.000000   \n",
       "50%       8.000000       1.000000  3105.000000  10019.000000  2870.000000   \n",
       "75%      10.000000       1.000000  5619.000000  10088.000000  3075.000000   \n",
       "max      19.000000       1.000000  9463.000000  10100.000000  3436.000000   \n",
       "\n",
       "       POPULATION  NEAR_Malls  NEAR_Business_centers  NEAR_metro_rjd  \\\n",
       "count        57.0   57.000000              57.000000       57.000000   \n",
       "mean     324698.0   -0.754386              -0.964912       -0.964912   \n",
       "std           0.0    0.662266               0.264906        0.264906   \n",
       "min      324698.0   -1.000000              -1.000000       -1.000000   \n",
       "25%      324698.0   -1.000000              -1.000000       -1.000000   \n",
       "50%      324698.0   -1.000000              -1.000000       -1.000000   \n",
       "75%      324698.0   -1.000000              -1.000000       -1.000000   \n",
       "max      324698.0    1.000000               1.000000        1.000000   \n",
       "\n",
       "       NEAR_Stations  macro_salary_avg_yearly  \n",
       "count      57.000000                     57.0  \n",
       "mean       -0.052632                 423321.0  \n",
       "std         1.007491                      0.0  \n",
       "min        -1.000000                 423321.0  \n",
       "25%        -1.000000                 423321.0  \n",
       "50%        -1.000000                 423321.0  \n",
       "75%         1.000000                 423321.0  \n",
       "max         1.000000                 423321.0  "
      ]
     },
     "execution_count": 8,
     "metadata": {},
     "output_type": "execute_result"
    }
   ],
   "source": [
    "X.describe()"
   ]
  },
  {
   "cell_type": "markdown",
   "metadata": {},
   "source": [
    "Обработаем признаки и целевые переменные:"
   ]
  },
  {
   "cell_type": "code",
   "execution_count": 9,
   "metadata": {},
   "outputs": [],
   "source": [
    "del X['POPULATION']\n",
    "del X['macro_salary_avg_yearly']"
   ]
  },
  {
   "cell_type": "markdown",
   "metadata": {},
   "source": [
    "Мы удалили эти столюцы, так как в них везде одинаковые значения"
   ]
  },
  {
   "cell_type": "code",
   "execution_count": 10,
   "metadata": {},
   "outputs": [],
   "source": [
    "import numpy as np\n",
    "\n",
    "X.fillna(0, inplace=True)\n",
    "X = (X - X.mean()) / X.std()"
   ]
  },
  {
   "cell_type": "code",
   "execution_count": 11,
   "metadata": {},
   "outputs": [],
   "source": [
    "y = data_kaluga[data_kaluga['cashbox_daily'].notnull()]['cashbox_daily']\n",
    "y = (y - y.mean()) / y.std()"
   ]
  },
  {
   "cell_type": "code",
   "execution_count": 12,
   "metadata": {},
   "outputs": [],
   "source": [
    "from sklearn.linear_model import LinearRegression, Ridge, Lasso\n",
    "from sklearn.model_selection import train_test_split \n",
    "from sklearn.metrics import mean_absolute_error as mae, mean_squared_error as mse\n",
    "\n",
    "lasso = Lasso(0.05)\n",
    "ridge = Ridge()\n",
    "lin_reg = LinearRegression()"
   ]
  },
  {
   "cell_type": "markdown",
   "metadata": {},
   "source": [
    "Проверим, что модель Лассо адекватно приближает значения:"
   ]
  },
  {
   "cell_type": "code",
   "execution_count": 13,
   "metadata": {
    "scrolled": true
   },
   "outputs": [
    {
     "name": "stdout",
     "output_type": "stream",
     "text": [
      "0.1525172105206985 0.330142948182379\n"
     ]
    }
   ],
   "source": [
    "X_train, X_test, y_train, y_test = train_test_split(X, y)\n",
    "\n",
    "lasso.fit(X_train, y_train)\n",
    "print(mse(y_test, lasso.predict(X_test)), mae(y_test, lasso.predict(X_test)))"
   ]
  },
  {
   "cell_type": "markdown",
   "metadata": {},
   "source": [
    "Применим модель Лассо для отбора значащих признаков:"
   ]
  },
  {
   "cell_type": "code",
   "execution_count": 14,
   "metadata": {},
   "outputs": [
    {
     "data": {
      "text/plain": [
       "array([ 0.7950587 ,  0.        ,  0.        ,  0.04516096,  0.05593081,\n",
       "       -0.        ,  0.        ,  0.01609916, -0.06898949])"
      ]
     },
     "execution_count": 14,
     "metadata": {},
     "output_type": "execute_result"
    }
   ],
   "source": [
    "lasso.fit(X, y)\n",
    "lasso.coef_"
   ]
  },
  {
   "cell_type": "code",
   "execution_count": 15,
   "metadata": {},
   "outputs": [
    {
     "data": {
      "text/html": [
       "<div>\n",
       "<style scoped>\n",
       "    .dataframe tbody tr th:only-of-type {\n",
       "        vertical-align: middle;\n",
       "    }\n",
       "\n",
       "    .dataframe tbody tr th {\n",
       "        vertical-align: top;\n",
       "    }\n",
       "\n",
       "    .dataframe thead th {\n",
       "        text-align: right;\n",
       "    }\n",
       "</style>\n",
       "<table border=\"1\" class=\"dataframe\">\n",
       "  <thead>\n",
       "    <tr style=\"text-align: right;\">\n",
       "      <th></th>\n",
       "      <th>cashbox_MAX</th>\n",
       "      <th>cashbox_trend</th>\n",
       "      <th>hh_500</th>\n",
       "      <th>value1</th>\n",
       "      <th>value2</th>\n",
       "      <th>NEAR_Malls</th>\n",
       "      <th>NEAR_Business_centers</th>\n",
       "      <th>NEAR_metro_rjd</th>\n",
       "      <th>NEAR_Stations</th>\n",
       "    </tr>\n",
       "  </thead>\n",
       "  <tbody>\n",
       "    <tr>\n",
       "      <th>cashbox_MAX</th>\n",
       "      <td>1.000000</td>\n",
       "      <td>0.300054</td>\n",
       "      <td>0.514976</td>\n",
       "      <td>0.397362</td>\n",
       "      <td>0.437021</td>\n",
       "      <td>0.046965</td>\n",
       "      <td>0.087393</td>\n",
       "      <td>-0.140762</td>\n",
       "      <td>0.050518</td>\n",
       "    </tr>\n",
       "    <tr>\n",
       "      <th>cashbox_trend</th>\n",
       "      <td>0.300054</td>\n",
       "      <td>1.000000</td>\n",
       "      <td>0.261985</td>\n",
       "      <td>0.436464</td>\n",
       "      <td>0.419984</td>\n",
       "      <td>0.047525</td>\n",
       "      <td>-0.273268</td>\n",
       "      <td>-0.273268</td>\n",
       "      <td>0.018744</td>\n",
       "    </tr>\n",
       "    <tr>\n",
       "      <th>hh_500</th>\n",
       "      <td>0.514976</td>\n",
       "      <td>0.261985</td>\n",
       "      <td>1.000000</td>\n",
       "      <td>0.149227</td>\n",
       "      <td>0.330607</td>\n",
       "      <td>-0.130335</td>\n",
       "      <td>0.138233</td>\n",
       "      <td>-0.100281</td>\n",
       "      <td>-0.039715</td>\n",
       "    </tr>\n",
       "    <tr>\n",
       "      <th>value1</th>\n",
       "      <td>0.397362</td>\n",
       "      <td>0.436464</td>\n",
       "      <td>0.149227</td>\n",
       "      <td>1.000000</td>\n",
       "      <td>0.910581</td>\n",
       "      <td>0.313233</td>\n",
       "      <td>-0.219422</td>\n",
       "      <td>-0.203222</td>\n",
       "      <td>-0.080200</td>\n",
       "    </tr>\n",
       "    <tr>\n",
       "      <th>value2</th>\n",
       "      <td>0.437021</td>\n",
       "      <td>0.419984</td>\n",
       "      <td>0.330607</td>\n",
       "      <td>0.910581</td>\n",
       "      <td>1.000000</td>\n",
       "      <td>0.312035</td>\n",
       "      <td>-0.180929</td>\n",
       "      <td>-0.146899</td>\n",
       "      <td>-0.017491</td>\n",
       "    </tr>\n",
       "    <tr>\n",
       "      <th>NEAR_Malls</th>\n",
       "      <td>0.046965</td>\n",
       "      <td>0.047525</td>\n",
       "      <td>-0.130335</td>\n",
       "      <td>0.313233</td>\n",
       "      <td>0.312035</td>\n",
       "      <td>1.000000</td>\n",
       "      <td>-0.050000</td>\n",
       "      <td>-0.050000</td>\n",
       "      <td>-0.033806</td>\n",
       "    </tr>\n",
       "    <tr>\n",
       "      <th>NEAR_Business_centers</th>\n",
       "      <td>0.087393</td>\n",
       "      <td>-0.273268</td>\n",
       "      <td>0.138233</td>\n",
       "      <td>-0.219422</td>\n",
       "      <td>-0.180929</td>\n",
       "      <td>-0.050000</td>\n",
       "      <td>1.000000</td>\n",
       "      <td>-0.017857</td>\n",
       "      <td>-0.126773</td>\n",
       "    </tr>\n",
       "    <tr>\n",
       "      <th>NEAR_metro_rjd</th>\n",
       "      <td>-0.140762</td>\n",
       "      <td>-0.273268</td>\n",
       "      <td>-0.100281</td>\n",
       "      <td>-0.203222</td>\n",
       "      <td>-0.146899</td>\n",
       "      <td>-0.050000</td>\n",
       "      <td>-0.017857</td>\n",
       "      <td>1.000000</td>\n",
       "      <td>0.140859</td>\n",
       "    </tr>\n",
       "    <tr>\n",
       "      <th>NEAR_Stations</th>\n",
       "      <td>0.050518</td>\n",
       "      <td>0.018744</td>\n",
       "      <td>-0.039715</td>\n",
       "      <td>-0.080200</td>\n",
       "      <td>-0.017491</td>\n",
       "      <td>-0.033806</td>\n",
       "      <td>-0.126773</td>\n",
       "      <td>0.140859</td>\n",
       "      <td>1.000000</td>\n",
       "    </tr>\n",
       "  </tbody>\n",
       "</table>\n",
       "</div>"
      ],
      "text/plain": [
       "                       cashbox_MAX  cashbox_trend    hh_500    value1  \\\n",
       "cashbox_MAX               1.000000       0.300054  0.514976  0.397362   \n",
       "cashbox_trend             0.300054       1.000000  0.261985  0.436464   \n",
       "hh_500                    0.514976       0.261985  1.000000  0.149227   \n",
       "value1                    0.397362       0.436464  0.149227  1.000000   \n",
       "value2                    0.437021       0.419984  0.330607  0.910581   \n",
       "NEAR_Malls                0.046965       0.047525 -0.130335  0.313233   \n",
       "NEAR_Business_centers     0.087393      -0.273268  0.138233 -0.219422   \n",
       "NEAR_metro_rjd           -0.140762      -0.273268 -0.100281 -0.203222   \n",
       "NEAR_Stations             0.050518       0.018744 -0.039715 -0.080200   \n",
       "\n",
       "                         value2  NEAR_Malls  NEAR_Business_centers  \\\n",
       "cashbox_MAX            0.437021    0.046965               0.087393   \n",
       "cashbox_trend          0.419984    0.047525              -0.273268   \n",
       "hh_500                 0.330607   -0.130335               0.138233   \n",
       "value1                 0.910581    0.313233              -0.219422   \n",
       "value2                 1.000000    0.312035              -0.180929   \n",
       "NEAR_Malls             0.312035    1.000000              -0.050000   \n",
       "NEAR_Business_centers -0.180929   -0.050000               1.000000   \n",
       "NEAR_metro_rjd        -0.146899   -0.050000              -0.017857   \n",
       "NEAR_Stations         -0.017491   -0.033806              -0.126773   \n",
       "\n",
       "                       NEAR_metro_rjd  NEAR_Stations  \n",
       "cashbox_MAX                 -0.140762       0.050518  \n",
       "cashbox_trend               -0.273268       0.018744  \n",
       "hh_500                      -0.100281      -0.039715  \n",
       "value1                      -0.203222      -0.080200  \n",
       "value2                      -0.146899      -0.017491  \n",
       "NEAR_Malls                  -0.050000      -0.033806  \n",
       "NEAR_Business_centers       -0.017857      -0.126773  \n",
       "NEAR_metro_rjd               1.000000       0.140859  \n",
       "NEAR_Stations                0.140859       1.000000  "
      ]
     },
     "execution_count": 15,
     "metadata": {},
     "output_type": "execute_result"
    }
   ],
   "source": [
    "X.corr()"
   ]
  },
  {
   "cell_type": "markdown",
   "metadata": {},
   "source": [
    "Признаки value1 и value2 получили ненулевые веса, однако у них большая корреляция, поэтому один из них не надо учитывать. Посчитаем веса у всех признаков с отсутствующими value2 и value1:"
   ]
  },
  {
   "cell_type": "code",
   "execution_count": 16,
   "metadata": {},
   "outputs": [
    {
     "data": {
      "text/plain": [
       "array([ 0.7949395 ,  0.        ,  0.        ,  0.09664327, -0.        ,\n",
       "        0.        ,  0.01323896, -0.07149039])"
      ]
     },
     "execution_count": 16,
     "metadata": {},
     "output_type": "execute_result"
    }
   ],
   "source": [
    "lasso.fit(X.drop(labels='value1', axis=1), y)\n",
    "lasso.coef_"
   ]
  },
  {
   "cell_type": "code",
   "execution_count": 17,
   "metadata": {},
   "outputs": [
    {
     "data": {
      "text/plain": [
       "array([ 0.79889328,  0.        ,  0.00198145,  0.09487306, -0.        ,\n",
       "        0.        ,  0.01836106, -0.0664145 ])"
      ]
     },
     "execution_count": 17,
     "metadata": {},
     "output_type": "execute_result"
    }
   ],
   "source": [
    "lasso.fit(X.drop(labels='value2', axis=1), y)\n",
    "lasso.coef_"
   ]
  },
  {
   "cell_type": "markdown",
   "metadata": {},
   "source": [
    "При отсутвуещем value2 вес признака hh_500 перестает быть нулевым, то есть имеется какая-то неявная зависимоть между value2 и hh_500, но нет зависимотсти между hh_500 и value1 (также можно заметить, что корреляция между этими парами признаков отличаются больше, чем в два раза). Поэтому следует оставить value1."
   ]
  },
  {
   "cell_type": "code",
   "execution_count": 18,
   "metadata": {},
   "outputs": [],
   "source": [
    "X.drop(labels=['cashbox_trend', 'value2', 'NEAR_Malls', 'NEAR_Business_centers'], axis=1, inplace=True)"
   ]
  },
  {
   "cell_type": "code",
   "execution_count": 19,
   "metadata": {},
   "outputs": [
    {
     "data": {
      "text/html": [
       "<div>\n",
       "<style scoped>\n",
       "    .dataframe tbody tr th:only-of-type {\n",
       "        vertical-align: middle;\n",
       "    }\n",
       "\n",
       "    .dataframe tbody tr th {\n",
       "        vertical-align: top;\n",
       "    }\n",
       "\n",
       "    .dataframe thead th {\n",
       "        text-align: right;\n",
       "    }\n",
       "</style>\n",
       "<table border=\"1\" class=\"dataframe\">\n",
       "  <thead>\n",
       "    <tr style=\"text-align: right;\">\n",
       "      <th></th>\n",
       "      <th>cashbox_MAX</th>\n",
       "      <th>hh_500</th>\n",
       "      <th>value1</th>\n",
       "      <th>NEAR_metro_rjd</th>\n",
       "      <th>NEAR_Stations</th>\n",
       "    </tr>\n",
       "  </thead>\n",
       "  <tbody>\n",
       "    <tr>\n",
       "      <th>0</th>\n",
       "      <td>1.494381</td>\n",
       "      <td>1.675132</td>\n",
       "      <td>1.290828</td>\n",
       "      <td>-0.132453</td>\n",
       "      <td>1.044805</td>\n",
       "    </tr>\n",
       "    <tr>\n",
       "      <th>2</th>\n",
       "      <td>1.212329</td>\n",
       "      <td>0.744297</td>\n",
       "      <td>1.307995</td>\n",
       "      <td>-0.132453</td>\n",
       "      <td>-0.940325</td>\n",
       "    </tr>\n",
       "    <tr>\n",
       "      <th>3</th>\n",
       "      <td>1.212329</td>\n",
       "      <td>1.443183</td>\n",
       "      <td>1.290828</td>\n",
       "      <td>-0.132453</td>\n",
       "      <td>-0.940325</td>\n",
       "    </tr>\n",
       "    <tr>\n",
       "      <th>4</th>\n",
       "      <td>0.366173</td>\n",
       "      <td>1.055299</td>\n",
       "      <td>1.239327</td>\n",
       "      <td>-0.132453</td>\n",
       "      <td>1.044805</td>\n",
       "    </tr>\n",
       "    <tr>\n",
       "      <th>6</th>\n",
       "      <td>-0.479983</td>\n",
       "      <td>1.678173</td>\n",
       "      <td>1.101992</td>\n",
       "      <td>-0.132453</td>\n",
       "      <td>1.044805</td>\n",
       "    </tr>\n",
       "  </tbody>\n",
       "</table>\n",
       "</div>"
      ],
      "text/plain": [
       "   cashbox_MAX    hh_500    value1  NEAR_metro_rjd  NEAR_Stations\n",
       "0     1.494381  1.675132  1.290828       -0.132453       1.044805\n",
       "2     1.212329  0.744297  1.307995       -0.132453      -0.940325\n",
       "3     1.212329  1.443183  1.290828       -0.132453      -0.940325\n",
       "4     0.366173  1.055299  1.239327       -0.132453       1.044805\n",
       "6    -0.479983  1.678173  1.101992       -0.132453       1.044805"
      ]
     },
     "execution_count": 19,
     "metadata": {},
     "output_type": "execute_result"
    }
   ],
   "source": [
    "X.head()"
   ]
  },
  {
   "cell_type": "code",
   "execution_count": 20,
   "metadata": {},
   "outputs": [],
   "source": [
    "def test_regressor(X, y, regressor):\n",
    "    mean_mse = 0\n",
    "    mean_mae = 0\n",
    "    \n",
    "    for i in range(100):\n",
    "        X_train , X_test, y_train, y_test = train_test_split(X, y)\n",
    "        regressor.fit(X_train, y_train)\n",
    "        mean_mse += mse(y_test, regressor.predict(X_test))\n",
    "        mean_mae += mae(y_test, regressor.predict(X_test))\n",
    "        \n",
    "    print('MSE = ', mean_mse/100)\n",
    "    print('MAE = ', mean_mae/100)"
   ]
  },
  {
   "cell_type": "markdown",
   "metadata": {},
   "source": [
    "Выявим лучшую модель линейной регрессии:"
   ]
  },
  {
   "cell_type": "code",
   "execution_count": 21,
   "metadata": {},
   "outputs": [
    {
     "name": "stdout",
     "output_type": "stream",
     "text": [
      "LinReg:\n",
      "MSE =  0.2360464954659108\n",
      "MAE =  0.3819486030748855\n",
      "Lasso:\n",
      "MSE =  0.22638584515107682\n",
      "MAE =  0.3740602266412703\n",
      "Ridge:\n",
      "MSE =  0.21984816952116484\n",
      "MAE =  0.3677789192767494\n"
     ]
    }
   ],
   "source": [
    "print('LinReg:')\n",
    "test_regressor(X, y, lin_reg)\n",
    "\n",
    "print('Lasso:')\n",
    "test_regressor(X, y, lasso)\n",
    "\n",
    "print('Ridge:')\n",
    "test_regressor(X, y, ridge)"
   ]
  },
  {
   "cell_type": "markdown",
   "metadata": {},
   "source": [
    "Большого различия в точности между ними нет, однако чуть точнее все-таки Ridge.\n",
    "Далее изучим точности некоторых других регрессионых моделей: "
   ]
  },
  {
   "cell_type": "code",
   "execution_count": 22,
   "metadata": {},
   "outputs": [
    {
     "name": "stdout",
     "output_type": "stream",
     "text": [
      "DesTree:\n",
      "MSE =  0.42364951615278634\n",
      "MAE =  0.4871233713171765\n"
     ]
    }
   ],
   "source": [
    "from sklearn.tree import DecisionTreeRegressor\n",
    "\n",
    "des_tree = DecisionTreeRegressor()\n",
    "\n",
    "print('DesTree:')\n",
    "test_regressor(X, y, des_tree)"
   ]
  },
  {
   "cell_type": "code",
   "execution_count": 23,
   "metadata": {},
   "outputs": [
    {
     "name": "stdout",
     "output_type": "stream",
     "text": [
      "ExtraTree:\n",
      "MSE =  0.504526384184217\n",
      "MAE =  0.5341581352036114\n"
     ]
    }
   ],
   "source": [
    "from sklearn.tree import ExtraTreeRegressor\n",
    "\n",
    "extra_tree = ExtraTreeRegressor()\n",
    "\n",
    "print('ExtraTree:')\n",
    "test_regressor(X, y, extra_tree)"
   ]
  },
  {
   "cell_type": "code",
   "execution_count": 24,
   "metadata": {},
   "outputs": [
    {
     "name": "stdout",
     "output_type": "stream",
     "text": [
      "KNN:\n",
      "MSE =  0.41914976097861023\n",
      "MAE =  0.4932065341131554\n"
     ]
    }
   ],
   "source": [
    "from sklearn.neighbors import KNeighborsRegressor\n",
    "\n",
    "knn = KNeighborsRegressor()\n",
    "\n",
    "print('KNN:')\n",
    "test_regressor(X, y, knn)"
   ]
  },
  {
   "cell_type": "markdown",
   "metadata": {},
   "source": [
    "Видно, что модель Ridge оказалась наилучшей. На остальных датасетах применим ту же стратегию (в силу идентичности данных, различий не будет)"
   ]
  },
  {
   "cell_type": "markdown",
   "metadata": {},
   "source": [
    "Проведем подобную аналитику для остальных датасетов:"
   ]
  },
  {
   "cell_type": "code",
   "execution_count": 78,
   "metadata": {},
   "outputs": [],
   "source": [
    "def getBenchmark(X, y, lasso_coef=0.05):\n",
    "    lasso = Lasso(lasso_coef)\n",
    "    ridge = Ridge()\n",
    "    lin_reg = LinearRegression()\n",
    "    des_tree = DecisionTreeRegressor()\n",
    "    extra_tree = ExtraTreeRegressor()\n",
    "    knn = KNeighborsRegressor()\n",
    "    \n",
    "    \n",
    "    print('LinReg:')\n",
    "    test_regressor(X, y, lin_reg)\n",
    "    print('Lasso:')\n",
    "    test_regressor(X, y, lasso)\n",
    "    print('Ridge:')\n",
    "    test_regressor(X, y, ridge)\n",
    "    print('ExtraTree:')\n",
    "    test_regressor(X, y, extra_tree)\n",
    "    print('KNN:')\n",
    "    test_regressor(X, y, knn)\n",
    "    print('DesTree:')\n",
    "    test_regressor(X, y, des_tree)\n",
    "    \n",
    "def getPredict(X, regressor):\n",
    "    df = data.iloc[:, labels]\n",
    "    df['cashbox_MAX'] = 0\n",
    "\n",
    "    df[target_name] = regressor.predict(df)\n",
    "    return df\n",
    "\n",
    "def get_X_y_train(data, target):\n",
    "    X = data[data[target].notnull()].iloc[:, 6:18]\n",
    "    for column in X.columns:\n",
    "        if (X[column].std() == 0):\n",
    "            del X[column]\n",
    "            \n",
    "    X.fillna(0, inplace=True)\n",
    "    X = (X - X.mean()) / X.std()\n",
    "    y = data_kal_obl[data_kal_obl[target].notnull()][target]\n",
    "    y = (y - y.mean()) / y.std()\n",
    "    return X, y\n",
    "\n",
    "def get_X_y_predict(data, target):\n",
    "    X = data[data[target].isnull()].iloc[:, 6:18]\n",
    "    for column in X.columns:\n",
    "        if (X[column].std() == 0):\n",
    "            del X[column]\n",
    "            \n",
    "    X.fillna(0, inplace=True)\n",
    "    X = (X - X.mean()) / X.std()\n",
    "    y = data_kal_obl[data_kal_obl[target].isnull()][target]\n",
    "    return X, y"
   ]
  },
  {
   "cell_type": "code",
   "execution_count": 69,
   "metadata": {},
   "outputs": [],
   "source": [
    "X, y = get_X_y_train(data_kal_obl, 'cashbox_daily')"
   ]
  },
  {
   "cell_type": "code",
   "execution_count": 70,
   "metadata": {},
   "outputs": [
    {
     "data": {
      "text/plain": [
       "(array([0, 2, 5, 6, 7]),)"
      ]
     },
     "execution_count": 70,
     "metadata": {},
     "output_type": "execute_result"
    }
   ],
   "source": [
    "lasso.fit(X, y)\n",
    "non_null_weights = lasso.coef_.nonzero()\n",
    "non_null_weights"
   ]
  },
  {
   "cell_type": "code",
   "execution_count": 71,
   "metadata": {},
   "outputs": [
    {
     "data": {
      "text/html": [
       "<div>\n",
       "<style scoped>\n",
       "    .dataframe tbody tr th:only-of-type {\n",
       "        vertical-align: middle;\n",
       "    }\n",
       "\n",
       "    .dataframe tbody tr th {\n",
       "        vertical-align: top;\n",
       "    }\n",
       "\n",
       "    .dataframe thead th {\n",
       "        text-align: right;\n",
       "    }\n",
       "</style>\n",
       "<table border=\"1\" class=\"dataframe\">\n",
       "  <thead>\n",
       "    <tr style=\"text-align: right;\">\n",
       "      <th></th>\n",
       "      <th>cashbox_MAX</th>\n",
       "      <th>hh_500</th>\n",
       "      <th>POPULATION</th>\n",
       "      <th>NEAR_Malls</th>\n",
       "      <th>NEAR_Business_centers</th>\n",
       "    </tr>\n",
       "  </thead>\n",
       "  <tbody>\n",
       "    <tr>\n",
       "      <th>23</th>\n",
       "      <td>1.584952</td>\n",
       "      <td>2.932212</td>\n",
       "      <td>1.160916</td>\n",
       "      <td>-0.267409</td>\n",
       "      <td>-0.215724</td>\n",
       "    </tr>\n",
       "    <tr>\n",
       "      <th>24</th>\n",
       "      <td>1.896281</td>\n",
       "      <td>2.085949</td>\n",
       "      <td>1.160916</td>\n",
       "      <td>3.654594</td>\n",
       "      <td>4.530202</td>\n",
       "    </tr>\n",
       "    <tr>\n",
       "      <th>35</th>\n",
       "      <td>0.339632</td>\n",
       "      <td>0.137279</td>\n",
       "      <td>1.160916</td>\n",
       "      <td>-0.267409</td>\n",
       "      <td>-0.215724</td>\n",
       "    </tr>\n",
       "    <tr>\n",
       "      <th>51</th>\n",
       "      <td>-0.283027</td>\n",
       "      <td>0.648958</td>\n",
       "      <td>1.160916</td>\n",
       "      <td>-0.267409</td>\n",
       "      <td>-0.215724</td>\n",
       "    </tr>\n",
       "    <tr>\n",
       "      <th>52</th>\n",
       "      <td>0.962292</td>\n",
       "      <td>2.106784</td>\n",
       "      <td>1.160916</td>\n",
       "      <td>-0.267409</td>\n",
       "      <td>-0.215724</td>\n",
       "    </tr>\n",
       "  </tbody>\n",
       "</table>\n",
       "</div>"
      ],
      "text/plain": [
       "    cashbox_MAX    hh_500  POPULATION  NEAR_Malls  NEAR_Business_centers\n",
       "23     1.584952  2.932212    1.160916   -0.267409              -0.215724\n",
       "24     1.896281  2.085949    1.160916    3.654594               4.530202\n",
       "35     0.339632  0.137279    1.160916   -0.267409              -0.215724\n",
       "51    -0.283027  0.648958    1.160916   -0.267409              -0.215724\n",
       "52     0.962292  2.106784    1.160916   -0.267409              -0.215724"
      ]
     },
     "execution_count": 71,
     "metadata": {},
     "output_type": "execute_result"
    }
   ],
   "source": [
    "non_null_weights = non_null_weights[0]\n",
    "\n",
    "X = X.iloc[:, non_null_weights]\n",
    "X.head()"
   ]
  },
  {
   "cell_type": "code",
   "execution_count": 72,
   "metadata": {},
   "outputs": [
    {
     "name": "stdout",
     "output_type": "stream",
     "text": [
      "LinReg:\n",
      "MSE =  0.30737180610621084\n",
      "MAE =  0.4266206144460789\n",
      "Lasso:\n",
      "MSE =  0.32019227113953014\n",
      "MAE =  0.44038017960227904\n",
      "Ridge:\n",
      "MSE =  0.28460257271083644\n",
      "MAE =  0.4044673531248543\n",
      "ExtraTree:\n",
      "MSE =  0.6212713765357148\n",
      "MAE =  0.5934375451446875\n",
      "KNN:\n",
      "MSE =  0.5278362013733117\n",
      "MAE =  0.5248349221248201\n",
      "DesTree:\n",
      "MSE =  0.5334655883220489\n",
      "MAE =  0.544968300619781\n"
     ]
    }
   ],
   "source": [
    "getBenchmark(X, y)"
   ]
  },
  {
   "cell_type": "code",
   "execution_count": 79,
   "metadata": {},
   "outputs": [
    {
     "ename": "TypeError",
     "evalue": "cannot unpack non-iterable function object",
     "output_type": "error",
     "traceback": [
      "\u001b[0;31m---------------------------------------------------------------------------\u001b[0m",
      "\u001b[0;31mTypeError\u001b[0m                                 Traceback (most recent call last)",
      "\u001b[0;32m<ipython-input-79-deabecd50f6d>\u001b[0m in \u001b[0;36m<module>\u001b[0;34m\u001b[0m\n\u001b[1;32m      1\u001b[0m \u001b[0mridge\u001b[0m\u001b[0;34m.\u001b[0m\u001b[0mfit\u001b[0m\u001b[0;34m(\u001b[0m\u001b[0mX\u001b[0m\u001b[0;34m,\u001b[0m \u001b[0my\u001b[0m\u001b[0;34m)\u001b[0m\u001b[0;34m\u001b[0m\u001b[0;34m\u001b[0m\u001b[0m\n\u001b[1;32m      2\u001b[0m \u001b[0;34m\u001b[0m\u001b[0m\n\u001b[0;32m----> 3\u001b[0;31m \u001b[0mX\u001b[0m\u001b[0;34m,\u001b[0m \u001b[0my\u001b[0m \u001b[0;34m=\u001b[0m \u001b[0mget_X_y_predict\u001b[0m\u001b[0;34m\u001b[0m\u001b[0;34m\u001b[0m\u001b[0m\n\u001b[0m\u001b[1;32m      4\u001b[0m \u001b[0;34m\u001b[0m\u001b[0m\n\u001b[1;32m      5\u001b[0m \u001b[0my\u001b[0m \u001b[0;34m=\u001b[0m \u001b[0mridge\u001b[0m\u001b[0;34m.\u001b[0m\u001b[0mpredict\u001b[0m\u001b[0;34m(\u001b[0m\u001b[0mX\u001b[0m\u001b[0;34m)\u001b[0m\u001b[0;34m\u001b[0m\u001b[0;34m\u001b[0m\u001b[0m\n",
      "\u001b[0;31mTypeError\u001b[0m: cannot unpack non-iterable function object"
     ]
    }
   ],
   "source": [
    "ridge.fit(X, y)\n",
    "\n",
    "X, y = get_X_y_predict\n",
    "\n",
    "y = ridge.predict(X)"
   ]
  },
  {
   "cell_type": "code",
   "execution_count": null,
   "metadata": {},
   "outputs": [],
   "source": []
  }
 ],
 "metadata": {
  "kernelspec": {
   "display_name": "Python 3",
   "language": "python",
   "name": "python3"
  },
  "language_info": {
   "codemirror_mode": {
    "name": "ipython",
    "version": 3
   },
   "file_extension": ".py",
   "mimetype": "text/x-python",
   "name": "python",
   "nbconvert_exporter": "python",
   "pygments_lexer": "ipython3",
   "version": "3.7.1"
  }
 },
 "nbformat": 4,
 "nbformat_minor": 2
}
